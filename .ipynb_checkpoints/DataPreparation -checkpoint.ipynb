{
 "cells": [
  {
   "cell_type": "code",
   "execution_count": 46,
   "metadata": {
    "collapsed": true
   },
   "outputs": [],
   "source": [
    "import os,glob,cv2\n",
    "import numpy as np"
   ]
  },
  {
   "cell_type": "code",
   "execution_count": 47,
   "metadata": {
    "collapsed": true
   },
   "outputs": [],
   "source": [
    "CurrentDirectory=os.getcwd()\n",
    "path=CurrentDirectory+'/DataOrginal/T_5/'\n",
    "TestPath=CurrentDirectory+'/data/Test/Type05/'\n",
    "TrainPath=CurrentDirectory+'/data/Train/Type05/'"
   ]
  },
  {
   "cell_type": "code",
   "execution_count": 48,
   "metadata": {},
   "outputs": [
    {
     "name": "stdout",
     "output_type": "stream",
     "text": [
      "153\n"
     ]
    }
   ],
   "source": [
    "imageOR = glob.glob(path+\"*.jpg\")\n",
    "imageOR.sort()\n",
    "print(len(imageOR))\n",
    "# print(imageOR)"
   ]
  },
  {
   "cell_type": "code",
   "execution_count": 49,
   "metadata": {},
   "outputs": [
    {
     "name": "stdout",
     "output_type": "stream",
     "text": [
      "[18, 31, 39, 49, 54, 74, 75, 90, 91, 100, 104, 105, 116, 123, 127, 128, 137, 145, 151]\n",
      "19\n",
      "[0, 1, 2, 3, 4, 5, 6, 7, 8, 9, 10, 11, 12, 13, 14, 15, 16, 17, 19, 20, 21, 22, 23, 24, 25, 26, 27, 28, 29, 30, 32, 33, 34, 35, 36, 37, 38, 40, 41, 42, 43, 44, 45, 46, 47, 48, 50, 51, 52, 53, 55, 56, 57, 58, 59, 60, 61, 62, 63, 64, 65, 66, 67, 68, 69, 70, 71, 72, 73, 76, 77, 78, 79, 80, 81, 82, 83, 84, 85, 86, 87, 88, 89, 92, 93, 94, 95, 96, 97, 98, 99, 101, 102, 103, 106, 107, 108, 109, 110, 111, 112, 113, 114, 115, 117, 118, 119, 120, 121, 122, 124, 125, 126, 129, 130, 131, 132, 133, 134, 135, 136, 138, 139, 140, 141, 142, 143, 144, 146, 147, 148, 149, 150, 152]\n",
      "134\n"
     ]
    }
   ],
   "source": [
    "import random\n",
    "\n",
    "Total=len(imageOR)\n",
    "\n",
    "test=[]\n",
    "for i in range(int(Total*0.15)):\n",
    "    r=random.randint(1,len(imageOR))\n",
    "    if r not in test:\n",
    "        test.append(r)\n",
    "        \n",
    "test.sort()\n",
    "print(test)\n",
    "print(len(test))\n",
    "\n",
    "totalNumber=np.arange(len(imageOR))\n",
    "\n",
    "train=[v for v in totalNumber if v not in test]\n",
    "\n",
    "train.sort()\n",
    "print(train)\n",
    "print(len(train))"
   ]
  },
  {
   "cell_type": "code",
   "execution_count": 50,
   "metadata": {
    "collapsed": true
   },
   "outputs": [],
   "source": [
    "j=1000\n",
    "for i in range(len(test)):\n",
    "    img=cv2.imread(imageOR[test[i]],-1)\n",
    "    img=cv2.resize(img, (224,224), interpolation = cv2.INTER_CUBIC)\n",
    "    pathTest=TestPath+str(j)+'.png'\n",
    "    cv2.imwrite(pathTest,img)\n",
    "    j=j+1\n",
    "\n",
    "j=1000\n",
    "for i in range(len(train)):\n",
    "    img=cv2.imread(imageOR[train[i]],-1)\n",
    "    img=cv2.resize(img, (224,224), interpolation = cv2.INTER_CUBIC)\n",
    "    pathTest=TrainPath+str(j)+'.png'\n",
    "    cv2.imwrite(pathTest,img)\n",
    "    j=j+1"
   ]
  },
  {
   "cell_type": "code",
   "execution_count": null,
   "metadata": {
    "collapsed": true
   },
   "outputs": [],
   "source": []
  }
 ],
 "metadata": {
  "kernelspec": {
   "display_name": "Python 3",
   "language": "python",
   "name": "python3"
  },
  "language_info": {
   "codemirror_mode": {
    "name": "ipython",
    "version": 3
   },
   "file_extension": ".py",
   "mimetype": "text/x-python",
   "name": "python",
   "nbconvert_exporter": "python",
   "pygments_lexer": "ipython3",
   "version": "3.6.3"
  }
 },
 "nbformat": 4,
 "nbformat_minor": 2
}
