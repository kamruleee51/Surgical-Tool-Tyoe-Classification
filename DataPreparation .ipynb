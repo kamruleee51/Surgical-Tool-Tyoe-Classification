{
 "cells": [
  {
   "cell_type": "markdown",
   "metadata": {},
   "source": [
    "## This code is for the Train Image and Test Image Selection"
   ]
  },
  {
   "cell_type": "code",
   "execution_count": 1,
   "metadata": {
    "collapsed": true
   },
   "outputs": [],
   "source": [
    "import os, glob, cv2\n",
    "import numpy as np"
   ]
  },
  {
   "cell_type": "code",
   "execution_count": 2,
   "metadata": {
    "collapsed": true
   },
   "outputs": [],
   "source": [
    "CurrentDirectory=os.getcwd()\n",
    "path=CurrentDirectory+'/DataOrginal/T_5/'\n",
    "TestPath=CurrentDirectory+'/data/Test/Type05/'\n",
    "TrainPath=CurrentDirectory+'/data/Train/Type05/'"
   ]
  },
  {
   "cell_type": "code",
   "execution_count": 3,
   "metadata": {},
   "outputs": [
    {
     "name": "stdout",
     "output_type": "stream",
     "text": [
      "153\n"
     ]
    }
   ],
   "source": [
    "imageOR = glob.glob(path+\"*.jpg\")\n",
    "imageOR.sort()\n",
    "print(len(imageOR))\n",
    "# print(imageOR)"
   ]
  },
  {
   "cell_type": "code",
   "execution_count": 4,
   "metadata": {},
   "outputs": [
    {
     "name": "stdout",
     "output_type": "stream",
     "text": [
      "[7, 8, 11, 17, 25, 28, 41, 55, 56, 63, 94, 108, 110, 111, 113, 119, 126, 135, 136, 148, 151]\n",
      "21\n",
      "[0, 1, 2, 3, 4, 5, 6, 9, 10, 12, 13, 14, 15, 16, 18, 19, 20, 21, 22, 23, 24, 26, 27, 29, 30, 31, 32, 33, 34, 35, 36, 37, 38, 39, 40, 42, 43, 44, 45, 46, 47, 48, 49, 50, 51, 52, 53, 54, 57, 58, 59, 60, 61, 62, 64, 65, 66, 67, 68, 69, 70, 71, 72, 73, 74, 75, 76, 77, 78, 79, 80, 81, 82, 83, 84, 85, 86, 87, 88, 89, 90, 91, 92, 93, 95, 96, 97, 98, 99, 100, 101, 102, 103, 104, 105, 106, 107, 109, 112, 114, 115, 116, 117, 118, 120, 121, 122, 123, 124, 125, 127, 128, 129, 130, 131, 132, 133, 134, 137, 138, 139, 140, 141, 142, 143, 144, 145, 146, 147, 149, 150, 152]\n",
      "132\n"
     ]
    }
   ],
   "source": [
    "import random\n",
    "\n",
    "Total=len(imageOR)\n",
    "\n",
    "test=[]\n",
    "for i in range(int(Total*0.15)):\n",
    "    r=random.randint(1,len(imageOR))\n",
    "    if r not in test:\n",
    "        test.append(r)\n",
    "        \n",
    "test.sort()\n",
    "print(test)\n",
    "print(len(test))\n",
    "\n",
    "totalNumber=np.arange(len(imageOR))\n",
    "\n",
    "train=[v for v in totalNumber if v not in test]\n",
    "\n",
    "train.sort()\n",
    "print(train)\n",
    "print(len(train))"
   ]
  },
  {
   "cell_type": "code",
   "execution_count": 5,
   "metadata": {
    "collapsed": true
   },
   "outputs": [],
   "source": [
    "j=1000\n",
    "for i in range(len(test)):\n",
    "    img=cv2.imread(imageOR[test[i]],-1)\n",
    "    img=cv2.resize(img, (224,224), interpolation = cv2.INTER_CUBIC)\n",
    "    pathTest=TestPath+str(j)+'.png'\n",
    "    cv2.imwrite(pathTest,img)\n",
    "    j=j+1\n",
    "\n",
    "j=1000\n",
    "for i in range(len(train)):\n",
    "    img=cv2.imread(imageOR[train[i]],-1)\n",
    "    img=cv2.resize(img, (224,224), interpolation = cv2.INTER_CUBIC)\n",
    "    pathTest=TrainPath+str(j)+'.png'\n",
    "    cv2.imwrite(pathTest,img)\n",
    "    j=j+1"
   ]
  }
 ],
 "metadata": {
  "kernelspec": {
   "display_name": "Python 3",
   "language": "python",
   "name": "python3"
  },
  "language_info": {
   "codemirror_mode": {
    "name": "ipython",
    "version": 3
   },
   "file_extension": ".py",
   "mimetype": "text/x-python",
   "name": "python",
   "nbconvert_exporter": "python",
   "pygments_lexer": "ipython3",
   "version": "3.6.3"
  }
 },
 "nbformat": 4,
 "nbformat_minor": 2
}
